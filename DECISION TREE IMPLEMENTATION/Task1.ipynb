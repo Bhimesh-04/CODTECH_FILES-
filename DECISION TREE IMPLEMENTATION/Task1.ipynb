import pandas as pd
import numpy as np
import matplotlib.pyplot as plt
from sklearn.tree import DecisionTreeClassifier,plot_tree
from sklearn.datasets import load_iris
from sklearn.metrics import accuracy_score
from sklearn.model_selection import train_test_split

df = load_iris()

X = df.data
y = df.target

Xt,Xte,yt,yte = train_test_split(X,y,test_size = 0.3,random_state = 42)

model = DecisionTreeClassifier(criterion = 'gini',max_depth = 3,random_state = 42)

model.fit(Xt,yt)

yp = model.predict(Xte)

print(accuracy_score(yp,yte))

plt.figure(figsize=(12, 8))
plot_tree(model, feature_names=df.feature_names, class_names=df.target_names, filled=True)
plt.show()

plt.figure(figsize=(12,12))
plt.plot(yte,yte,'b.')
plt.plot(yte,yp,'r-')
plt.show()
